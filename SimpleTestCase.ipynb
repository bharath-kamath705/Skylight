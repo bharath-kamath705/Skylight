{
 "cells": [
  {
   "cell_type": "code",
   "execution_count": 1,
   "metadata": {},
   "outputs": [
    {
     "name": "stdout",
     "output_type": "stream",
     "text": [
      "10.85\n"
     ]
    },
    {
     "data": {
      "image/png": "[encoded data removed]",
      "text/plain": [
       "<Figure size 864x432 with 1 Axes>"
      ]
     },
     "metadata": {
      "needs_background": "light"
     },
     "output_type": "display_data"
    }
   ],
   "source": [
    "%matplotlib inline\n",
    "import SunLib\n",
    "from matplotlib import pyplot as plt\n",
    "\n",
    "sun = [-3.5, 1]\n",
    "myBuildings = [[[4,0],[4,-5],[7,-5],[7,0]], [[0.4, -2], [0.4, -5], [2.5, -5], [2.5, -2]]]\n",
    "\n",
    "# find illuminated edges\n",
    "myEdges = SunLib.BuildingsToEdges(myBuildings)\n",
    "litEdges = SunLib.GiveLitEdges(myBuildings, sun)\n",
    "\n",
    "# length of lit edges\n",
    "length = SunLib.EdgesLen(litEdges)\n",
    "print(length)\n",
    "\n",
    "# create figure and grab fig, axis handles\n",
    "fig, ax = plt.subplots(figsize=[12,6])\n",
    "ax.clear()\n",
    "ax.set_facecolor('k')\n",
    "\n",
    "# plot sun\n",
    "pt = ax.scatter(sun[0], sun[1], s = 200, color='w')\n",
    "\n",
    "# plot all edges\n",
    "for edge in myEdges:\n",
    "    ax.plot([edge[0][0], edge[1][0]], [edge[0][1], edge[1][1]], color='r')\n",
    "\n",
    "#plot lit edges\n",
    "for edge in litEdges:\n",
    "    ax.plot([edge[0][0], edge[1][0]], [edge[0][1], edge[1][1]], color='w')\n",
    "\n",
    "#illuminated initLengt\n",
    "ax.text(2, 0.8, \"illuminated length\\n     {}\".format(length), color='w')\n",
    "\n",
    "plt.show()\n"
   ]
  }
 ],
 "metadata": {
  "kernelspec": {
   "display_name": "Python 3",
   "language": "python",
   "name": "python3"
  },
  "language_info": {
   "codemirror_mode": {
    "name": "ipython",
    "version": 3
   },
   "file_extension": ".py",
   "mimetype": "text/x-python",
   "name": "python",
   "nbconvert_exporter": "python",
   "pygments_lexer": "ipython3",
   "version": "3.7.4"
  }
 },
 "nbformat": 4,
 "nbformat_minor": 2
}
